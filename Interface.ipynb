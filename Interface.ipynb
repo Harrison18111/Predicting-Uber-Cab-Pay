{
 "cells": [
  {
   "cell_type": "code",
   "execution_count": null,
   "metadata": {},
   "outputs": [],
   "source": [
    "#Harrison Ressler\n",
    "#Interface for model"
   ]
  },
  {
   "cell_type": "code",
   "execution_count": 8,
   "metadata": {},
   "outputs": [
    {
     "data": {
      "text/plain": [
       "array([31.9])"
      ]
     },
     "execution_count": 8,
     "metadata": {},
     "output_type": "execute_result"
    }
   ],
   "source": [
    "import joblib\n",
    "import numpy as np\n",
    "\n",
    "#Load model\n",
    "saved_model = joblib.load(\"saved_model\") #loads file\n",
    "\n",
    "#Trying 2 learn how to predict any given situation \n",
    "list1 = np.array([10,10,3,1,5,5,13,59,5,12,2018])#data we give it (Ex: Current time, day, name,..year, IN ORDER)\n",
    "list1 = list1.reshape(1, -1)\n",
    "saved_model.predict(list1)\n",
    "#Outputs estimated pay"
   ]
  },
  {
   "cell_type": "code",
   "execution_count": 1,
   "metadata": {},
   "outputs": [],
   "source": [
    "#Make functions to use it\n",
    "def predict_pay(cab_type, source, surge_multiplier, product_id, name, minute, hour, day, month, year): #Named funct. predict_pay. Give it things that user will enter\n",
    "    #List to put output data in\n",
    "    output = []\n",
    "    \n",
    "    #What funct. does:\n",
    "    for distance in [1,3,5]: #every iteration of the for loop, distance (i) would be the next one (Ex: 1,then 3, then 5) : This will give it a bunch of distances for it to get the average of (Since predicting distance is too tough right now)\n",
    "        #For every distance (or i), do a predict()\n",
    "        user_input = np.array([distance,cab_type,source,surge_multiplier,product_id,name,minute,hour,day,month,year])#List of all variables for predict given by user\n",
    "        user_input = user_input.reshape(1, -1)\n",
    "        output.append(saved_model.predict(user_input)[0]) #Append adds new data to list \"output\", & [0] grabs first item in list    \n",
    "    return np.mean(output)"
   ]
  },
  {
   "cell_type": "code",
   "execution_count": 10,
   "metadata": {},
   "outputs": [
    {
     "data": {
      "text/plain": [
       "10.883333333333333"
      ]
     },
     "execution_count": 10,
     "metadata": {},
     "output_type": "execute_result"
    }
   ],
   "source": [
    "#Trying it, & giving it values\n",
    "\n",
    "#predict_pay(cab_type, source, surge_multiplier, product_id, name, minute, hour, day, month, year)\n",
    "predict_pay(2,1,1,2,2,18,0,5,12,2018)"
   ]
  },
  {
   "cell_type": "code",
   "execution_count": 17,
   "metadata": {},
   "outputs": [
    {
     "name": "stdout",
     "output_type": "stream",
     "text": [
      "14.866666666666667\n",
      "14.766666666666667\n",
      "15.483333333333334\n",
      "15.416666666666666\n",
      "15.450000000000001\n"
     ]
    }
   ],
   "source": [
    "#Now try new years eve\n",
    "\n",
    "#1am\n",
    "print(predict_pay(2,1,1,1,2,0,1,1,1,2018))\n",
    "\n",
    "#2am\n",
    "print(predict_pay(2,1,1,1,2,0,2,1,1,2018))\n",
    "\n",
    "#3am\n",
    "print(predict_pay(2,1,1,1,2,0,3,1,1,2018))\n",
    "\n",
    "#4am\n",
    "print(predict_pay(2,1,1,1,2,0,4,1,1,2018))\n",
    "\n",
    "#I was expecting more. But maybe I picked a bad location.\n",
    "\n",
    "#8am\n",
    "print(predict_pay(2,1,1,1,2,0,8,1,1,2018))\n",
    "\n",
    "#The 8am pay suggests the model may average out per hour, & not account for huge short spikes"
   ]
  },
  {
   "cell_type": "code",
   "execution_count": null,
   "metadata": {},
   "outputs": [],
   "source": []
  }
 ],
 "metadata": {
  "kernelspec": {
   "display_name": "Python 3",
   "language": "python",
   "name": "python3"
  },
  "language_info": {
   "codemirror_mode": {
    "name": "ipython",
    "version": 3
   },
   "file_extension": ".py",
   "mimetype": "text/x-python",
   "name": "python",
   "nbconvert_exporter": "python",
   "pygments_lexer": "ipython3",
   "version": "3.7.4"
  }
 },
 "nbformat": 4,
 "nbformat_minor": 4
}
